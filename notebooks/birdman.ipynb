{
 "cells": [
  {
   "cell_type": "code",
   "execution_count": null,
   "id": "57e44f3a-ccf5-4cbd-bd63-3451eb32f783",
   "metadata": {},
   "outputs": [],
   "source": [
    "import biom\n",
    "import pandas as pd\n",
    "import numpy as np\n",
    "import xarray as xr\n",
    "import glob\n",
    "\n",
    "from birdman import NegativeBinomial"
   ]
  },
  {
   "cell_type": "code",
   "execution_count": null,
   "id": "048678fd-3ab1-495b-827f-ef97a379bd5b",
   "metadata": {
    "scrolled": true
   },
   "outputs": [],
   "source": [
    "import cmdstanpy\n",
    "#Install if needed:\n",
    "cmdstanpy.install_cmdstan()"
   ]
  },
  {
   "cell_type": "code",
   "execution_count": null,
   "id": "b58359b2-eaf0-4b25-ba1a-cd114d3a661f",
   "metadata": {},
   "outputs": [],
   "source": [
    "cmdstanpy.cmdstan_path()"
   ]
  },
  {
   "cell_type": "code",
   "execution_count": null,
   "id": "05e41554-1cea-41d5-a494-ecf74763e37d",
   "metadata": {},
   "outputs": [],
   "source": [
    "fpath = glob.glob(\"templates/*.txt\")[0]\n",
    "table = biom.load_table(\"BIOM/44773/otu_table.biom\")\n",
    "metadata = pd.read_csv(\n",
    "    fpath,\n",
    "    sep=\"\\t\",\n",
    "    index_col=0\n",
    ")\n",
    "\n",
    "metadata.head()"
   ]
  },
  {
   "cell_type": "code",
   "execution_count": null,
   "id": "c581ae5c-d099-4c25-bd01-62f4b9c9299e",
   "metadata": {},
   "outputs": [],
   "source": [
    "table"
   ]
  },
  {
   "cell_type": "code",
   "execution_count": null,
   "id": "43b49e62-da78-4e3d-9e09-2b1269168385",
   "metadata": {},
   "outputs": [],
   "source": [
    "prevalence = table.to_dataframe().clip(upper=1).sum(axis=1)\n",
    "features_to_keep = prevalence[prevalence >= 5].index.tolist()\n",
    "table_filt = table.filter(features_to_keep, axis=\"observation\")"
   ]
  },
  {
   "cell_type": "code",
   "execution_count": null,
   "id": "a66423ac-6ef7-49a4-acf2-9f65722ffe91",
   "metadata": {},
   "outputs": [],
   "source": [
    "nb = NegativeBinomial(\n",
    "    table=table_filt,\n",
    "    formula=\"diet\",\n",
    "    metadata=metadata,\n",
    ")"
   ]
  },
  {
   "cell_type": "code",
   "execution_count": null,
   "id": "5c760d11-0b12-468c-9810-d10fbbad31d7",
   "metadata": {
    "scrolled": true
   },
   "outputs": [],
   "source": [
    "nb.compile_model()\n",
    "nb.fit_model(method=\"vi\", num_draws=500)"
   ]
  },
  {
   "cell_type": "code",
   "execution_count": null,
   "id": "b9478321-cd59-432e-8685-aeea9162c1b3",
   "metadata": {},
   "outputs": [],
   "source": [
    "inference = nb.to_inference()\n",
    "inference"
   ]
  },
  {
   "cell_type": "code",
   "execution_count": null,
   "id": "4805c3f2-dd67-4136-bd37-9074082a2a78",
   "metadata": {},
   "outputs": [],
   "source": [
    "metadata['diet']"
   ]
  },
  {
   "cell_type": "code",
   "execution_count": null,
   "id": "6db1e94f-2e8f-48c9-af9e-042d4d66beb4",
   "metadata": {},
   "outputs": [],
   "source": [
    "inference.posterior['covariate'][1].to_numpy()"
   ]
  },
  {
   "cell_type": "code",
   "execution_count": null,
   "id": "1b41bff4-5395-4dc2-8508-2a37fef8c607",
   "metadata": {},
   "outputs": [],
   "source": [
    "inference.posterior"
   ]
  },
  {
   "cell_type": "code",
   "execution_count": null,
   "id": "3ebb584c-c324-4a34-adcf-283131871ab7",
   "metadata": {},
   "outputs": [],
   "source": [
    "for i, clr in inference.posterior['beta_var'].groupby('chain'):\n",
    "    print(clr.shape)"
   ]
  },
  {
   "cell_type": "code",
   "execution_count": null,
   "id": "d2b558c0-1a47-4ca7-a269-b667134d96fc",
   "metadata": {},
   "outputs": [],
   "source": [
    "from birdman.transform import posterior_alr_to_clr\n",
    "\n",
    "inference = nb.to_inference()\n",
    "inference.posterior = posterior_alr_to_clr(\n",
    "    inference.posterior,\n",
    "    alr_params=[\"beta_var\"],  # the default NB model has only beta in ALR coordinates\n",
    "    dim_replacement={\"feature_alr\": \"feature\"},  # the default NB model assigns 'feature_alr' as the dimension name\n",
    "    new_labels=nb.feature_names  # replace the old labels (all the feature names except the first) with all the feature names\n",
    ")"
   ]
  },
  {
   "cell_type": "code",
   "execution_count": null,
   "id": "4d40660c-de23-442b-abb0-7cac319357be",
   "metadata": {},
   "outputs": [],
   "source": [
    "import birdman.visualization as viz\n",
    "\n",
    "ax = viz.plot_parameter_estimates(\n",
    "    inference,\n",
    "    parameter=\"beta_var\",\n",
    "    coords={\"covariate\": \"diet[T.DIO]\"},\n",
    ")"
   ]
  },
  {
   "cell_type": "markdown",
   "id": "b6fc071e-190f-48c3-ac8a-bd2938973099",
   "metadata": {},
   "source": [
    "# Sam's data"
   ]
  },
  {
   "cell_type": "code",
   "execution_count": null,
   "id": "2eec20a4-7a02-457c-8b43-79b8f98ac634",
   "metadata": {},
   "outputs": [],
   "source": [
    "import os\n",
    "os.getcwd()"
   ]
  },
  {
   "cell_type": "code",
   "execution_count": null,
   "id": "db53fd11-d207-41ec-aa42-d2db71afdfb1",
   "metadata": {},
   "outputs": [],
   "source": [
    "fpath = \"../birdman/metadata_2024Feb02.tsv\"\n",
    "# fpath = \"/home/cys226/private/birdman/metadata_2024Feb02.tsv\"\n",
    "table = biom.load_table(\"../data/sam/genus-table-exported/feature-table.biom\")\n",
    "# table = biom.load_table(\"/home/cys226/private/birdman/feature-table.biom\")\n",
    "metadata = pd.read_csv(\n",
    "    fpath,\n",
    "    sep=\"\\t\",\n",
    "    index_col=0\n",
    ")\n",
    "\n",
    "metadata"
   ]
  },
  {
   "cell_type": "code",
   "execution_count": null,
   "id": "9dfe8954-f7f6-4163-8677-eba8545e99cb",
   "metadata": {},
   "outputs": [],
   "source": [
    "table.to_dataframe()"
   ]
  },
  {
   "cell_type": "code",
   "execution_count": null,
   "id": "7d760f4d-7a45-4ad7-91fe-434aa1ca55f3",
   "metadata": {},
   "outputs": [],
   "source": [
    "diabetes_cat = ['T2D', 'Obesity/T2D', 'Type II Diabetes', 'Type 2 diabetes', 'Type_II_Diabetes']\n",
    "short_meta = metadata[(metadata['Disease'] == 'Healthy') | (metadata['Disease'].isin(diabetes_cat))]\n",
    "short_meta['T2D'] = short_meta['Disease'].apply(lambda x: 'Healthy' if x == 'Healthy' else 'T2D')\n",
    "short_meta = short_meta.loc[short_meta.index.intersection(table.to_dataframe().columns)]\n",
    "short_table = table.filter(short_meta.index.tolist())\n",
    "prevalence = short_table.to_dataframe().clip(upper=1).sum(axis=1)\n",
    "features_to_keep = prevalence[prevalence >= 5].index.tolist()\n",
    "short_table_filt = short_table.filter(features_to_keep, axis='observation')\n",
    "short_table_filt.to_dataframe()"
   ]
  },
  {
   "cell_type": "code",
   "execution_count": null,
   "id": "08f0af19-861a-4ab3-97be-6073d70bd96f",
   "metadata": {},
   "outputs": [],
   "source": []
  },
  {
   "cell_type": "code",
   "execution_count": null,
   "id": "45abb51b-b498-4b41-96a2-fd48d29feefa",
   "metadata": {},
   "outputs": [],
   "source": [
    "metadata['Notes'].value_counts()"
   ]
  },
  {
   "cell_type": "code",
   "execution_count": null,
   "id": "ca989113-b879-4f09-a75b-e9a5a529f0ed",
   "metadata": {},
   "outputs": [],
   "source": [
    "metadata[metadata['Disease'] == 'T2D']"
   ]
  },
  {
   "cell_type": "code",
   "execution_count": null,
   "id": "5eec0289-51c8-4234-81b4-536c1dfa3330",
   "metadata": {},
   "outputs": [],
   "source": [
    "metadata[metadata['Disease'] == 'T2D']['Study'].value_counts()"
   ]
  },
  {
   "cell_type": "code",
   "execution_count": null,
   "id": "aebe8497-7747-4d47-9857-d825914a4ec2",
   "metadata": {},
   "outputs": [],
   "source": [
    "metadata[metadata['Study'] == 'RadwanGilfillan_et_al_2020']"
   ]
  },
  {
   "cell_type": "code",
   "execution_count": null,
   "id": "03bf01a2-50fc-4759-9a5b-4fe2a4ea29a0",
   "metadata": {
    "scrolled": true
   },
   "outputs": [],
   "source": [
    "metadata[(metadata['Primer'] == 'V4') & (metadata['Age'] == 'Adult')]"
   ]
  },
  {
   "cell_type": "code",
   "execution_count": null,
   "id": "c3dd0266-74b0-4383-a15e-80ad4db30e4a",
   "metadata": {},
   "outputs": [],
   "source": [
    "metadata[metadata['Disease_Type'] == 'Metabolic']['Disease'].value_counts()"
   ]
  },
  {
   "cell_type": "code",
   "execution_count": null,
   "id": "31ba8d12-af50-4850-8d78-6ad043bd85e3",
   "metadata": {},
   "outputs": [],
   "source": [
    "metadata['Disease_Type'].value_counts()"
   ]
  },
  {
   "cell_type": "code",
   "execution_count": null,
   "id": "6faa2007-6e1f-4c9d-87c4-ddf1c30d111a",
   "metadata": {},
   "outputs": [],
   "source": [
    "metadata['Disease'].value_counts()"
   ]
  },
  {
   "cell_type": "code",
   "execution_count": null,
   "id": "6b36b5d3-96eb-41c1-846f-4b3a28c3705e",
   "metadata": {},
   "outputs": [],
   "source": [
    "diabetes_cat = ['T2D', 'Obesity/T2D', 'Type II Diabetes', 'Type 2 diabetes', 'Type_II_Diabetes']\n",
    "metadata['Disease'].value_counts().loc[diabetes_cat].sum()"
   ]
  },
  {
   "cell_type": "code",
   "execution_count": null,
   "id": "24aecf65-f6d1-4a81-acd7-449f9b104d3a",
   "metadata": {},
   "outputs": [],
   "source": [
    "metadata['Age'].value_counts()"
   ]
  },
  {
   "cell_type": "code",
   "execution_count": null,
   "id": "ec766516-4486-4ad4-ad5b-54a7c4d16100",
   "metadata": {},
   "outputs": [],
   "source": [
    "metadata['Age2'].value_counts()"
   ]
  },
  {
   "cell_type": "code",
   "execution_count": null,
   "id": "3e1d6910-c3c4-4e3f-b588-173ff60c8974",
   "metadata": {},
   "outputs": [],
   "source": [
    "# default: prevalence >= 5\n",
    "# for the sake of running the model, prevalence >= 100\n",
    "\n",
    "prevalence = table.to_dataframe().clip(upper=1).sum(axis=1)\n",
    "features_to_keep = prevalence[prevalence >= 5].index.tolist()\n",
    "table_filt = table.filter(features_to_keep, axis=\"observation\")"
   ]
  },
  {
   "cell_type": "code",
   "execution_count": null,
   "id": "dee77dfa-c4ab-49bc-b914-9e3862714f2b",
   "metadata": {},
   "outputs": [],
   "source": [
    "table.to_dataframe().index"
   ]
  },
  {
   "cell_type": "code",
   "execution_count": null,
   "id": "2523fabd-7548-4766-85ee-89c40fd77c7a",
   "metadata": {},
   "outputs": [],
   "source": [
    "table_filt"
   ]
  },
  {
   "cell_type": "code",
   "execution_count": null,
   "id": "ea980a50-2db9-44b1-9082-efa0f23ba2c6",
   "metadata": {},
   "outputs": [],
   "source": [
    "# remove unnecessary metadata\n",
    "short_meta = metadata.loc[table.to_dataframe().columns]\n",
    "short_meta"
   ]
  },
  {
   "cell_type": "code",
   "execution_count": null,
   "id": "c105ebce-0cfd-4049-aca2-9e981657f148",
   "metadata": {},
   "outputs": [],
   "source": [
    "# two cohorts: Disease_Type (Healthy vs Metabolic)\n",
    "short_meta = short_meta[(short_meta['Disease_Type'] == 'Healthy') | (short_meta['Disease_Type'] == 'Metabolic')]\n",
    "short_meta"
   ]
  },
  {
   "cell_type": "code",
   "execution_count": null,
   "id": "30e003d3-5481-4fd1-b0a1-08859d6470f6",
   "metadata": {},
   "outputs": [],
   "source": [
    "# remove non-healthy, non-metabolic samples from otu table\n",
    "table_filt = table_filt.filter(short_meta.index.tolist())"
   ]
  },
  {
   "cell_type": "code",
   "execution_count": null,
   "id": "f2d30041-a623-407e-a9ea-ccb481d645e7",
   "metadata": {},
   "outputs": [],
   "source": [
    "nb = NegativeBinomial(\n",
    "    table=table_filt,\n",
    "    formula=\"Disease_Type\",\n",
    "    metadata=short_meta\n",
    "    # metadata=metadata,\n",
    ")"
   ]
  },
  {
   "cell_type": "code",
   "execution_count": null,
   "id": "293c563f-b70c-4bbe-9be6-48f47eb9a4cb",
   "metadata": {},
   "outputs": [],
   "source": [
    "nb.compile_model()"
   ]
  },
  {
   "cell_type": "code",
   "execution_count": null,
   "id": "e52eac73-6e16-47cd-83fd-601c7590c4a6",
   "metadata": {},
   "outputs": [],
   "source": [
    "nb.fit_model(method=\"vi\", num_draws=100)"
   ]
  },
  {
   "cell_type": "code",
   "execution_count": null,
   "id": "d40216be-0881-43e9-91b3-73964b664363",
   "metadata": {},
   "outputs": [],
   "source": [
    "inference = nb.to_inference()"
   ]
  },
  {
   "cell_type": "code",
   "execution_count": null,
   "id": "8212b51c-c935-498e-abd6-598a22266e8b",
   "metadata": {},
   "outputs": [],
   "source": [
    "inference.posterior['covariate'].to_numpy()[1]"
   ]
  },
  {
   "cell_type": "code",
   "execution_count": null,
   "id": "cc94f8d7-06ca-420b-8813-1017844cf7cf",
   "metadata": {},
   "outputs": [],
   "source": [
    "# break down _beta_alr_to_clr\n",
    "\n",
    "def _alr_to_clr(x: np.ndarray) -> np.ndarray:\n",
    "    \"\"\"Convert ALR coordinates to centered CLR coordinates.\n",
    "\n",
    "    :param x: Matrix of ALR coordinates (features x draws)\n",
    "    :type x: np.ndarray\n",
    "\n",
    "    :returns: Matrix of centered CLR coordinates\n",
    "    :rtype: np.ndarray\n",
    "    \"\"\"\n",
    "    num_draws = x.shape[1]\n",
    "    z = np.zeros((1, num_draws))\n",
    "    x_clr = np.vstack((z, x))\n",
    "    x_clr = x_clr - x_clr.mean(axis=0).reshape(1, -1)\n",
    "    return x_clr\n",
    "\n",
    "\n",
    "def _beta_alr_to_clr(beta: np.ndarray) -> np.ndarray:\n",
    "    \"\"\"Convert feature-covariate coefficients from ALR to CLR.\n",
    "\n",
    "    :param beta: Matrix of beta ALR coordinates (n draws x p covariates x\n",
    "        d features)\n",
    "    :type beta: np.ndarray\n",
    "\n",
    "    :returns: Matrix of beta CLR coordinates (n draws x p covariates x d+1\n",
    "        features)\n",
    "    :rtype: np.ndarray\n",
    "    \"\"\"\n",
    "    num_draws, num_covariates, num_features = beta.shape\n",
    "    beta_clr = np.zeros((num_draws, num_covariates, num_features+1))\n",
    "    for i in range(num_covariates):  # TODO: vectorize\n",
    "        beta_slice = beta[:, i, :].T  # features x draws\n",
    "        beta_clr[:, i, :] = _alr_to_clr(beta_slice).T\n",
    "    return beta_clr"
   ]
  },
  {
   "cell_type": "code",
   "execution_count": null,
   "id": "7d590f4b-5134-477b-b6c9-227ac3fbab76",
   "metadata": {},
   "outputs": [],
   "source": [
    "# break down posterior_alr_to_clr\n",
    "posterior = inference.posterior\n",
    "alr_params=[\"beta_var\"]\n",
    "dim_replacement={\"feature_alr\": \"feature\"}\n",
    "new_labels=nb.feature_names\n",
    "\n",
    "new_posterior = posterior.copy()\n",
    "for param in alr_params: \n",
    "    param_da = posterior[param]\n",
    "    all_chain_alr_coords = param_da\n",
    "    all_chain_clr_coords = []\n",
    "\n",
    "    for i, chain_alr_coords in all_chain_alr_coords.groupby(\"chain\"):\n",
    "        chain_clr_coords = _beta_alr_to_clr(chain_alr_coords[0])\n",
    "        all_chain_clr_coords.append(chain_clr_coords)\n",
    "\n",
    "    all_chain_clr_coords = np.array(all_chain_clr_coords)\n",
    "\n",
    "    new_dims = [\n",
    "        dim_replacement[x]\n",
    "        if x in dim_replacement else x\n",
    "        for x in param_da.dims\n",
    "    ]\n",
    "    # Replace coords with updated labels\n",
    "\n",
    "    new_coords = dict()\n",
    "    for dim in param_da.dims:\n",
    "        if dim in dim_replacement:\n",
    "            new_name = dim_replacement[dim]\n",
    "            new_coords[new_name] = new_labels\n",
    "        else:\n",
    "            new_coords[dim] = param_da.coords.get(dim).data\n",
    "\n",
    "    new_param_da = xr.DataArray(\n",
    "        all_chain_clr_coords,\n",
    "        dims=new_dims,\n",
    "        coords=new_coords\n",
    "    )\n",
    "    new_posterior[param] = new_param_da\n",
    "\n",
    "new_posterior = new_posterior.drop_vars(dim_replacement.keys())\n",
    "inference.posterior = new_posterior"
   ]
  },
  {
   "cell_type": "code",
   "execution_count": null,
   "id": "4fd9a338-2914-4843-b0b4-d6d1d98a9f54",
   "metadata": {},
   "outputs": [],
   "source": [
    "import birdman.visualization as viz\n",
    "\n",
    "ax = viz.plot_parameter_estimates(\n",
    "    inference,\n",
    "    parameter=\"beta_var\",\n",
    "    coords={\"covariate\": \"Disease_Type[T.Metabolic]\"},\n",
    ")"
   ]
  },
  {
   "cell_type": "code",
   "execution_count": null,
   "id": "8ea6ebde-bc88-4595-ad46-936adae2a25d",
   "metadata": {},
   "outputs": [],
   "source": [
    "param_means = inference.posterior['beta_var'].sel(\n",
    "    **{'covariate': 'Disease_Type[T.Metabolic]'}\n",
    "    ).mean(['chain', 'draw'])\n",
    "sort_indices = param_means.argsort().data\n",
    "param_means = param_means.data[sort_indices]\n",
    "param_labels = inference.posterior['feature'].data[sort_indices]"
   ]
  },
  {
   "cell_type": "code",
   "execution_count": null,
   "id": "2bbcc335-3d77-4f5e-848a-3dec4e3e81df",
   "metadata": {},
   "outputs": [],
   "source": [
    "param_means"
   ]
  },
  {
   "cell_type": "code",
   "execution_count": null,
   "id": "2d2e35d4-932e-4614-8c44-692e97c7aac9",
   "metadata": {},
   "outputs": [],
   "source": [
    "taxonomy = pd.read_csv('/Users/candusshi/academics/qiime2-capstone/metadata/taxonomy.tsv', sep='\\t', index_col=0)\n",
    "taxonomy"
   ]
  },
  {
   "cell_type": "code",
   "execution_count": null,
   "id": "4fdee6cd-3547-411a-b522-28102f72cd1f",
   "metadata": {},
   "outputs": [],
   "source": [
    "pd.DataFrame({'feature': param_labels, 'mean clr': param_means})"
   ]
  },
  {
   "cell_type": "code",
   "execution_count": null,
   "id": "3c16dbe7-cce2-4508-abc0-2eded7a8717e",
   "metadata": {},
   "outputs": [],
   "source": [
    "table.to_dataframe().index"
   ]
  },
  {
   "cell_type": "code",
   "execution_count": null,
   "id": "081f68e4-9118-4597-a05a-f535c489cd9a",
   "metadata": {},
   "outputs": [],
   "source": [
    "taxonomy.index.intersection(table.to_dataframe().index)"
   ]
  },
  {
   "cell_type": "code",
   "execution_count": null,
   "id": "0ec2cfd9-8c0a-4710-86ce-61fd9e36327c",
   "metadata": {},
   "outputs": [],
   "source": [
    "table.to_dataframe().index.intersection(taxonomy.index)"
   ]
  },
  {
   "cell_type": "code",
   "execution_count": null,
   "id": "a273d9d3-7c49-4cd3-a759-874c408b3618",
   "metadata": {},
   "outputs": [],
   "source": [
    "taxonomy.loc[param_labels[25]]"
   ]
  },
  {
   "cell_type": "code",
   "execution_count": null,
   "id": "3aab63c8-7904-4bbb-9e18-28823b5c9618",
   "metadata": {},
   "outputs": [],
   "source": []
  }
 ],
 "metadata": {
  "kernelspec": {
   "display_name": "Python 3 (ipykernel)",
   "language": "python",
   "name": "python3"
  },
  "language_info": {
   "codemirror_mode": {
    "name": "ipython",
    "version": 3
   },
   "file_extension": ".py",
   "mimetype": "text/x-python",
   "name": "python",
   "nbconvert_exporter": "python",
   "pygments_lexer": "ipython3",
   "version": "3.9.21"
  }
 },
 "nbformat": 4,
 "nbformat_minor": 5
}
