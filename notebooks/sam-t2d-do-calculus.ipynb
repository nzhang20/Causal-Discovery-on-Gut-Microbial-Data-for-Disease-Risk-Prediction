{
 "cells": [
  {
   "cell_type": "code",
   "execution_count": 1,
   "id": "8d4d235c-ffa3-4a63-87c3-d8e9d9118e68",
   "metadata": {},
   "outputs": [],
   "source": [
    "import sys\n",
    "import json\n",
    "import pandas as pd\n",
    "import numpy as np\n",
    "import itertools\n",
    "import glob, os\n",
    "import matplotlib.pyplot as plt\n",
    "from matplotlib_venn import venn2_unweighted\n",
    "from biom.table import Table\n",
    "\n",
    "sys.path.append('../')\n",
    "\n",
    "from src.etl import *\n",
    "from src.eda import *\n",
    "from src.graph import *\n",
    "from src.sparsify import *"
   ]
  },
  {
   "cell_type": "code",
   "execution_count": 2,
   "id": "11e5ee97-53ee-4cbe-94bd-da08e59c4022",
   "metadata": {},
   "outputs": [],
   "source": [
    "# sam-t2d config\n",
    "disease = 'sam-t2d'\n",
    "otu_table_fp = '../data/sam-t2d/otu_table.csv'\n",
    "metadata_fp = '../data/sam-t2d/metadata.csv'\n",
    "rare_otu_threshold = 1\n",
    "transformation = 'norm'\n",
    "disease_col = 't2d'\n",
    "group0 = 'No'\n",
    "group1 = 'Yes'"
   ]
  },
  {
   "cell_type": "code",
   "execution_count": 3,
   "id": "8734cc4c-90d0-4e34-bdea-93bf0ca1e9b6",
   "metadata": {},
   "outputs": [],
   "source": [
    "otu_table = pd.read_csv(otu_table_fp, index_col=0)\n",
    "filtered_otu_table = filter_rare_otus(otu_table, rare_otu_threshold)\n",
    "metadata = pd.read_csv(metadata_fp, index_col=0)\n",
    "\n",
    "if disease == 'sam-t2d':\n",
    "    merged = metadata.merge(filtered_otu_table, how='inner', left_index=True, right_index=True)\n",
    "else: \n",
    "    merged = pd.concat([metadata, filtered_otu_table], axis=1)\n",
    "healthy = merged[merged[disease_col] == 0] #.drop(columns=[disease_col])\n",
    "diseased = merged[merged[disease_col] == 1] #.drop(columns=[disease_col])"
   ]
  },
  {
   "cell_type": "code",
   "execution_count": 4,
   "id": "b3f4a790-bb64-4532-a369-ae87340521f4",
   "metadata": {},
   "outputs": [
    {
     "name": "stdout",
     "output_type": "stream",
     "text": [
      "The pruned dataset has the following dimensions:  (811, 77)\n"
     ]
    },
    {
     "data": {
      "application/vnd.jupyter.widget-view+json": {
       "model_id": "d530d147db2f45c08dd23b58feac765e",
       "version_major": 2,
       "version_minor": 0
      },
      "text/plain": [
       "  0%|          | 0/77 [00:00<?, ?it/s]"
      ]
     },
     "metadata": {},
     "output_type": "display_data"
    },
    {
     "name": "stdout",
     "output_type": "stream",
     "text": [
      "The following genera are directly linked to the 't2d' node: \n",
      " region_num\n",
      "d__Bacteria;p__Bacteroidota;c__Bacteroidia;o__Bacteroidales;f__Bacteroidaceae;g__Prevotella\n",
      "d__Bacteria;p__Bacillota_A_368345;c__Clostridia_258483;o__Oscillospirales;f__Ruminococcaceae;g__Faecalibacterium\n",
      "d__Bacteria;p__Actinomycetota;c__Coriobacteriia;o__Coriobacteriales;f__Coriobacteriaceae;g__Collinsella\n",
      "d__Bacteria;p__Bacteroidota;c__Bacteroidia;o__Bacteroidales;f__Rikenellaceae;g__Alistipes_A_871400\n",
      "d__Bacteria;p__Bacillota_A_368345;c__Clostridia_258483;o__Christensenellales;f__CAG-138;g__Aphodomorpha\n",
      "d__Bacteria;p__Bacillota_A_368345;c__Clostridia_258483;o__Lachnospirales;f__Lachnospiraceae;g__Pseudobutyrivibrio\n",
      "d__Bacteria;p__Pseudomonadota;c__Alphaproteobacteria;o__RF32;f__CAG-239;g__CAG-267\n",
      "d__Bacteria;p__Bacillota_A_368345;c__Clostridia_258483;o__Monoglobales;f__Monoglobaceae;g__\n",
      "The following genera are directly linked to the 'study' node: \n",
      " region_num\n",
      "d__Bacteria;p__Actinomycetota;c__Actinomycetes;o__Actinomycetales;f__Micrococcaceae;g__Rothia\n",
      "d__Bacteria;p__Pseudomonadota;c__Gammaproteobacteria;o__Enterobacterales_737866;f__Enterobacteriaceae_A_725029;g__Escherichia\n",
      "d__Bacteria;p__Actinomycetota;c__Coriobacteriia;o__Coriobacteriales;f__Atopobiaceae;g__Parolsenella\n",
      "d__Bacteria;p__Bacillota_A_368345;c__Clostridia_258483;o__UBA1381;f__UBA1381;g__Hominilimicola\n",
      "d__Bacteria;p__Bacteroidota;c__Bacteroidia;o__Bacteroidales;f__Rikenellaceae;g__Alistipes_A_871400\n",
      "d__Bacteria;p__Bacillota_A_368345;c__Clostridia_258483;o__Christensenellales;f__Aristaeellaceae;g__SFMI01\n",
      "d__Archaea;p__Methanobacteriota_A_1229;c__Methanobacteria;o__Methanobacteriales;f__Methanobacteriaceae;g__Methanobrevibacter_A\n",
      "d__Bacteria;p__Desulfobacterota_G_459543;c__Desulfovibrionia;o__Desulfovibrionales;f__Desulfovibrionaceae;g__Desulfovibrio_446353\n",
      "d__Bacteria;p__Bacillota_A_368345;c__Clostridia_258483;o__Christensenellales;f__Borkfalkiaceae;g__UBA1259\n",
      "d__Bacteria;p__Bacillota_A_368345;c__Clostridia_258483;o__Peptostreptococcales;__;__\n",
      "d__Bacteria;p__Pseudomonadota;c__Alphaproteobacteria;o__RF32;f__CAG-239;g__Scatocola\n",
      "d__Bacteria;p__Verrucomicrobiota;c__Kiritimatiellia;o__RFP12;f__UBA1067;g__Spyradenecus\n",
      "The following genera are directly linked to the 'region_num' node: \n",
      " t2d\n",
      "study\n",
      "d__Bacteria;p__Bacillota_A_368345;c__Clostridia_258483;o__Oscillospirales;f__Ruminococcaceae;g__Faecalibacterium\n",
      "d__Bacteria;p__Bacillota_A_368345;c__Clostridia_258483;o__Oscillospirales;f__Butyricicoccaceae;g__Agathobaculum\n",
      "d__Bacteria;p__Actinomycetota;c__Coriobacteriia;o__Coriobacteriales;f__Coriobacteriaceae;g__Collinsella\n",
      "d__Bacteria;p__Bacillota_A_368345;c__Clostridia_258483;o__Lachnospirales;f__Lachnospiraceae;g__Blautia_A_141781\n",
      "d__Bacteria;p__Actinomycetota;c__Coriobacteriia;o__Coriobacteriales;f__Eggerthellaceae;g__Eggerthella\n",
      "d__Bacteria;p__Bacillota_A_368345;c__Clostridia_258483;o__UBA1381;f__UBA1381;g__Hominilimicola\n",
      "d__Bacteria;p__Actinomycetota;c__Coriobacteriia;o__Coriobacteriales;__;__\n",
      "d__Archaea;p__Methanobacteriota_A_1229;c__Methanobacteria;o__Methanobacteriales;f__Methanobacteriaceae;g__Methanobrevibacter_A\n",
      "d__Bacteria;p__Bacteroidota;c__Bacteroidia;o__Bacteroidales;f__Marinifilaceae;g__Butyricimonas\n",
      "d__Bacteria;p__Bacillota_A_368345;c__Clostridia_258483;o__Oscillospirales;f__Oscillospiraceae_88309;g__Lawsonibacter\n"
     ]
    }
   ],
   "source": [
    "data_loglasso = prune_lasso(merged, metadata, f'../data/{disease}/lasso_covariates_{transformation}.txt')\n",
    "samt2dcdnod = run_cdnod(data_loglasso, disease, f'{disease}/cdnod_{transformation}')"
   ]
  },
  {
   "cell_type": "code",
   "execution_count": 26,
   "id": "b2e90484-59b0-47e5-9786-486d118702d9",
   "metadata": {},
   "outputs": [
    {
     "data": {
      "text/plain": [
       "['t2d',\n",
       " 'd__Bacteria.p__Pseudomonadota.c__Gammaproteobacteria.o__Enterobacterales_737866.f__Enterobacteriaceae_A_725029.g__Escherichia',\n",
       " 'd__Bacteria.p__Bacillota_A_368345.c__Clostridia_258483.o__Oscillospirales.f__Acutalibacteraceae.g__CAG-488',\n",
       " 'd__Bacteria.p__Bacteroidota.c__Bacteroidia.o__Bacteroidales.f__Marinifilaceae.g__Butyricimonas']"
      ]
     },
     "execution_count": 26,
     "metadata": {},
     "output_type": "execute_result"
    }
   ],
   "source": [
    "adj_nodes = []\n",
    "for node in samt2dcdnod.get_adjacent_nodes(samt2dcdnod.get_node('X73')):\n",
    "    adj_nodes.append(int(node.get_name().replace('X', '')))\n",
    "\n",
    "data_aug_col = np.array(['placeholder'] + list(data_loglasso.columns))\n",
    "\n",
    "[x.replace(';', '.') for x in list(data_aug_col[adj_nodes])]"
   ]
  },
  {
   "cell_type": "code",
   "execution_count": 13,
   "id": "4ccb6c8a-7867-4cb9-856b-a20b24a206e9",
   "metadata": {},
   "outputs": [
    {
     "data": {
      "text/plain": [
       "[3, 4, 5, 10, 25, 45, 51, 71, 73]"
      ]
     },
     "execution_count": 13,
     "metadata": {},
     "output_type": "execute_result"
    }
   ],
   "source": [
    "adj_nodes"
   ]
  },
  {
   "cell_type": "code",
   "execution_count": 11,
   "id": "57b77a08-c1cf-48a7-9895-eb030995726b",
   "metadata": {},
   "outputs": [
    {
     "data": {
      "text/plain": [
       "<causallearn.graph.GraphNode.GraphNode at 0x15d6567c0>"
      ]
     },
     "execution_count": 11,
     "metadata": {},
     "output_type": "execute_result"
    }
   ],
   "source": [
    "samt2dcdnod.get_node('X1')"
   ]
  },
  {
   "cell_type": "code",
   "execution_count": 7,
   "id": "fb035da7-6f89-4948-b321-fcee2734f550",
   "metadata": {},
   "outputs": [
    {
     "ename": "KeyError",
     "evalue": "'region_num'",
     "output_type": "error",
     "traceback": [
      "\u001b[0;31m---------------------------------------------------------------------------\u001b[0m",
      "\u001b[0;31mKeyError\u001b[0m                                  Traceback (most recent call last)",
      "Cell \u001b[0;32mIn[7], line 1\u001b[0m\n\u001b[0;32m----> 1\u001b[0m \u001b[43msamt2dcdnod\u001b[49m\u001b[38;5;241;43m.\u001b[39;49m\u001b[43mget_adjacent_nodes\u001b[49m\u001b[43m(\u001b[49m\u001b[38;5;124;43m'\u001b[39;49m\u001b[38;5;124;43mregion_num\u001b[39;49m\u001b[38;5;124;43m'\u001b[39;49m\u001b[43m)\u001b[49m\n",
      "File \u001b[0;32m/opt/anaconda3/envs/causal-gut-v2/lib/python3.9/site-packages/causallearn/graph/GeneralGraph.py:344\u001b[0m, in \u001b[0;36mGeneralGraph.get_adjacent_nodes\u001b[0;34m(self, node)\u001b[0m\n\u001b[1;32m    343\u001b[0m \u001b[38;5;28;01mdef\u001b[39;00m\u001b[38;5;250m \u001b[39m\u001b[38;5;21mget_adjacent_nodes\u001b[39m(\u001b[38;5;28mself\u001b[39m, node: Node) \u001b[38;5;241m-\u001b[39m\u001b[38;5;241m>\u001b[39m List[Node]:\n\u001b[0;32m--> 344\u001b[0m     j \u001b[38;5;241m=\u001b[39m \u001b[38;5;28;43mself\u001b[39;49m\u001b[38;5;241;43m.\u001b[39;49m\u001b[43mnode_map\u001b[49m\u001b[43m[\u001b[49m\u001b[43mnode\u001b[49m\u001b[43m]\u001b[49m\n\u001b[1;32m    345\u001b[0m     adj_list: List[Node] \u001b[38;5;241m=\u001b[39m []\n\u001b[1;32m    347\u001b[0m     \u001b[38;5;28;01mfor\u001b[39;00m i \u001b[38;5;129;01min\u001b[39;00m \u001b[38;5;28mrange\u001b[39m(\u001b[38;5;28mself\u001b[39m\u001b[38;5;241m.\u001b[39mnum_vars):\n",
      "\u001b[0;31mKeyError\u001b[0m: 'region_num'"
     ]
    }
   ],
   "source": [
    "samt2dcdnod.get_adjacent_nodes('region_num')"
   ]
  },
  {
   "cell_type": "code",
   "execution_count": null,
   "id": "2707b95e-2c6f-4671-9cb4-19dd27dc8b87",
   "metadata": {},
   "outputs": [],
   "source": []
  }
 ],
 "metadata": {
  "kernelspec": {
   "display_name": "Python 3 (ipykernel)",
   "language": "python",
   "name": "python3"
  },
  "language_info": {
   "codemirror_mode": {
    "name": "ipython",
    "version": 3
   },
   "file_extension": ".py",
   "mimetype": "text/x-python",
   "name": "python",
   "nbconvert_exporter": "python",
   "pygments_lexer": "ipython3",
   "version": "3.9.21"
  }
 },
 "nbformat": 4,
 "nbformat_minor": 5
}
