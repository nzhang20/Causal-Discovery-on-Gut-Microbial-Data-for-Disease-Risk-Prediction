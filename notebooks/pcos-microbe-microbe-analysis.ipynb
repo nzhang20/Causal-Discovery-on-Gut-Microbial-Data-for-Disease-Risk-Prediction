{
 "cells": [
  {
   "cell_type": "code",
   "execution_count": 1,
   "id": "10752385-49d7-47f8-9be1-2fb93ae9ec3f",
   "metadata": {},
   "outputs": [],
   "source": [
    "import sys\n",
    "import json\n",
    "import pandas as pd\n",
    "import numpy as np\n",
    "import itertools\n",
    "import glob, os\n",
    "import matplotlib.pyplot as plt\n",
    "from matplotlib_venn import venn2_unweighted\n",
    "from biom.table import Table\n",
    "\n",
    "sys.path.append('../')\n",
    "\n",
    "from src.etl import *\n",
    "from src.eda import *\n",
    "from src.graph import *\n",
    "from src.sparsify import *"
   ]
  },
  {
   "cell_type": "code",
   "execution_count": 2,
   "id": "0e0b484b-c037-4cfe-bc43-9e9677cbe763",
   "metadata": {},
   "outputs": [],
   "source": [
    "# sam-t2d config\n",
    "disease = 'sam-t2d'\n",
    "otu_table_fp = '../data/sam-t2d/otu_table.csv'\n",
    "metadata_fp = '../data/sam-t2d/metadata.csv'\n",
    "rare_otu_threshold = 1\n",
    "transformation = 'norm'\n",
    "disease_col = 't2d'\n",
    "group0 = 'No'\n",
    "group1 = 'Yes'"
   ]
  },
  {
   "cell_type": "code",
   "execution_count": 4,
   "id": "0be46461-fdaf-46ed-a3cb-b2d7691dbf7f",
   "metadata": {},
   "outputs": [],
   "source": [
    "# pcos config\n",
    "disease = 'pcos'\n",
    "otu_table_fp = '../data/pcos/otu_table.csv'\n",
    "metadata_fp = '../data/pcos/metadata.csv'\n",
    "rare_otu_threshold = 1\n",
    "transformation = 'norm'\n",
    "disease_col = 'group'\n",
    "group0 = 'HC'\n",
    "group1 = 'PCOS'"
   ]
  },
  {
   "cell_type": "code",
   "execution_count": 3,
   "id": "298c5e69-3645-4d06-b698-cd12a0fdf64e",
   "metadata": {},
   "outputs": [],
   "source": [
    "otu_table = pd.read_csv(otu_table_fp, index_col=0)\n",
    "filtered_otu_table = filter_rare_otus(otu_table, rare_otu_threshold)\n",
    "metadata = pd.read_csv(metadata_fp, index_col=0)\n",
    "\n",
    "if disease == 'sam-t2d':\n",
    "    merged = metadata.merge(filtered_otu_table, how='inner', left_index=True, right_index=True)\n",
    "else: \n",
    "    merged = pd.concat([metadata, filtered_otu_table], axis=1)\n",
    "healthy = merged[merged[disease_col] == 0] #.drop(columns=[disease_col])\n",
    "diseased = merged[merged[disease_col] == 1] #.drop(columns=[disease_col])"
   ]
  },
  {
   "cell_type": "code",
   "execution_count": 4,
   "id": "f7763a19-e9e4-4118-a26b-52a30a4d02df",
   "metadata": {},
   "outputs": [],
   "source": [
    "healthy_otu = healthy.drop(columns=list(metadata.columns))\n",
    "data_sparse_healthy, data_sparse_diseased, keep_nodes_healthy, keep_nodes_diseased = get_sig_cor_pairs_glasso(\n",
    "                    f'../data/{disease}/glasso_{group0}_{transformation}.csv', \n",
    "                    f'../data/{disease}/glasso_{group1}_{transformation}.csv', \n",
    "                    list(healthy_otu.columns)\n",
    "                )"
   ]
  },
  {
   "cell_type": "code",
   "execution_count": 5,
   "id": "59cbde8c-f828-4125-85e9-49607a60b48e",
   "metadata": {},
   "outputs": [],
   "source": [
    "healthy = healthy[keep_nodes_healthy]\n",
    "diseased = diseased[keep_nodes_diseased]\n",
    "sparse_method_fp = 'glasso'"
   ]
  },
  {
   "cell_type": "code",
   "execution_count": 6,
   "id": "b8955c50-7d71-4954-8d12-92a94999a2c0",
   "metadata": {},
   "outputs": [
    {
     "data": {
      "application/vnd.jupyter.widget-view+json": {
       "model_id": "aced916034774fc2ba86d9714d72081d",
       "version_major": 2,
       "version_minor": 0
      },
      "text/plain": [
       "  0%|          | 0/41 [00:00<?, ?it/s]"
      ]
     },
     "metadata": {},
     "output_type": "display_data"
    }
   ],
   "source": [
    "healthy_pcos_graph = run_pc_depth2(healthy, data_sparse_healthy, 0.01, f'{disease}/{sparse_method_fp}_{group0}_{transformation}')"
   ]
  },
  {
   "cell_type": "code",
   "execution_count": 7,
   "id": "8f18c211-ac3d-498a-818a-17da7440b935",
   "metadata": {},
   "outputs": [
    {
     "data": {
      "application/vnd.jupyter.widget-view+json": {
       "model_id": "f676406c9f414f0f990baf48049be95c",
       "version_major": 2,
       "version_minor": 0
      },
      "text/plain": [
       "  0%|          | 0/42 [00:00<?, ?it/s]"
      ]
     },
     "metadata": {},
     "output_type": "display_data"
    }
   ],
   "source": [
    "pcos_pcos_graph = run_pc_depth2(diseased, data_sparse_diseased, 0.01, f'{disease}/{sparse_method_fp}_{group1}_{transformation}')"
   ]
  },
  {
   "cell_type": "code",
   "execution_count": 10,
   "id": "e964261d-8d15-4014-a565-fe5b0a4c2163",
   "metadata": {},
   "outputs": [
    {
     "data": {
      "text/plain": [
       "array([[0, 0, 0, ..., 0, 0, 0],\n",
       "       [0, 0, 0, ..., 0, 0, 0],\n",
       "       [0, 0, 0, ..., 0, 0, 0],\n",
       "       ...,\n",
       "       [0, 0, 0, ..., 0, 0, 0],\n",
       "       [0, 0, 0, ..., 0, 0, 0],\n",
       "       [0, 0, 0, ..., 0, 0, 0]])"
      ]
     },
     "execution_count": 10,
     "metadata": {},
     "output_type": "execute_result"
    }
   ],
   "source": [
    "healthy_pcos_graph.graph"
   ]
  },
  {
   "cell_type": "code",
   "execution_count": 8,
   "id": "5dea91d0-bd35-4354-bad5-27bb8cc7ab0c",
   "metadata": {},
   "outputs": [],
   "source": [
    "healthy_temp = []\n",
    "\n",
    "for i in range(healthy.shape[1]):\n",
    "    for j in range(healthy.shape[1]):\n",
    "        if healthy_pcos_graph.graph[i, j] != 0:\n",
    "            healthy_temp.append(healthy.columns[i])\n",
    "            healthy_temp.append(healthy.columns[j])"
   ]
  },
  {
   "cell_type": "code",
   "execution_count": 9,
   "id": "aa5ba9d9-5c99-447a-938d-bfa52af87686",
   "metadata": {},
   "outputs": [
    {
     "data": {
      "text/plain": [
       "array(['d__Bacteria;__;__;__;__;__',\n",
       "       'd__Bacteria;p__Actinomycetota;c__Actinomycetes;o__Actinomycetales;f__Bifidobacteriaceae;g__Bifidobacterium_388775',\n",
       "       'd__Bacteria;p__Actinomycetota;c__Coriobacteriia;o__Coriobacteriales;f__Coriobacteriaceae;g__Collinsella',\n",
       "       'd__Bacteria;p__Bacillota_A_368345;c__Clostridia_258483;o__Christensenellales;f__Aristaeellaceae;g__SFMI01',\n",
       "       'd__Bacteria;p__Bacillota_A_368345;c__Clostridia_258483;o__Lachnospirales;f__Lachnospiraceae;__',\n",
       "       'd__Bacteria;p__Bacillota_A_368345;c__Clostridia_258483;o__Lachnospirales;f__Lachnospiraceae;g__Blautia_A_141781',\n",
       "       'd__Bacteria;p__Bacillota_A_368345;c__Clostridia_258483;o__Lachnospirales;f__Lachnospiraceae;g__Lachnospira',\n",
       "       'd__Bacteria;p__Bacillota_A_368345;c__Clostridia_258483;o__Oscillospirales;f__Acutalibacteraceae;__',\n",
       "       'd__Bacteria;p__Bacillota_A_368345;c__Clostridia_258483;o__Oscillospirales;f__Acutalibacteraceae;g__Acutalibacter',\n",
       "       'd__Bacteria;p__Bacillota_A_368345;c__Clostridia_258483;o__Oscillospirales;f__Acutalibacteraceae;g__Fimenecus',\n",
       "       'd__Bacteria;p__Bacillota_A_368345;c__Clostridia_258483;o__Oscillospirales;f__Acutalibacteraceae;g__Ruminococcus_E',\n",
       "       'd__Bacteria;p__Bacillota_A_368345;c__Clostridia_258483;o__Oscillospirales;f__Oscillospiraceae_88309;g__Vescimonas',\n",
       "       'd__Bacteria;p__Bacillota_A_368345;c__Clostridia_258483;o__Oscillospirales;f__Ruminococcaceae;g__Faecalibacterium',\n",
       "       'd__Bacteria;p__Bacillota_A_368345;c__Clostridia_258483;o__Oscillospirales;f__Ruminococcaceae;g__Gemmiger_A_73129',\n",
       "       'd__Bacteria;p__Bacillota_A_368345;c__Clostridia_258483;o__Oscillospirales;f__Ruminococcaceae;g__Hominimerdicola',\n",
       "       'd__Bacteria;p__Bacillota_A_368345;c__Clostridia_258483;o__Peptostreptococcales;f__Peptostreptococcaceae_256921;__',\n",
       "       'd__Bacteria;p__Bacillota_A_368345;c__Clostridia_258483;o__UBA1381;f__UBA1381;g__Hominilimicola',\n",
       "       'd__Bacteria;p__Bacillota_C;c__Negativicutes;o__Acidaminococcales;f__Acidaminococcaceae;g__Phascolarctobacterium_A_39470',\n",
       "       'd__Bacteria;p__Bacillota_C;c__Negativicutes;o__Acidaminococcales;f__Acidaminococcaceae;g__Phascolarctobacterium_A_40086',\n",
       "       'd__Bacteria;p__Bacillota_C;c__Negativicutes;o__Selenomonadales;f__Selenomonadaceae_42771;g__Mitsuokella',\n",
       "       'd__Bacteria;p__Bacillota_C;c__Negativicutes;o__Veillonellales;f__Dialisteraceae;g__Dialister_37762',\n",
       "       'd__Bacteria;p__Bacillota_C;c__Negativicutes;o__Veillonellales;f__Megasphaeraceae;g__Megasphaera_A_38685',\n",
       "       'd__Bacteria;p__Bacillota_I;c__Bacilli_A;o__Erysipelotrichales;f__Erysipelotrichaceae;g__Holdemanella',\n",
       "       'd__Bacteria;p__Bacillota_I;c__Bacilli_A;o__Lactobacillales;f__Lactobacillaceae;g__Ligilactobacillus',\n",
       "       'd__Bacteria;p__Bacillota_I;c__Bacilli_A;o__Lactobacillales;f__Streptococcaceae;g__Streptococcus',\n",
       "       'd__Bacteria;p__Bacteroidota;c__Bacteroidia;o__Bacteroidales;f__Bacteroidaceae;g__Alloprevotella',\n",
       "       'd__Bacteria;p__Bacteroidota;c__Bacteroidia;o__Bacteroidales;f__Bacteroidaceae;g__Bacteroides_H_857956',\n",
       "       'd__Bacteria;p__Bacteroidota;c__Bacteroidia;o__Bacteroidales;f__Bacteroidaceae;g__Phocaeicola_A',\n",
       "       'd__Bacteria;p__Bacteroidota;c__Bacteroidia;o__Bacteroidales;f__Bacteroidaceae;g__Prevotella',\n",
       "       'd__Bacteria;p__Bacteroidota;c__Bacteroidia;o__Bacteroidales;f__Tannerellaceae;g__Parabacteroides_B_862066',\n",
       "       'd__Bacteria;p__Fusobacteriota;c__Fusobacteriia;o__Fusobacteriales;f__Fusobacteriaceae;g__Fusobacterium_A',\n",
       "       'd__Bacteria;p__Pseudomonadota;c__Gammaproteobacteria;o__Burkholderiales;f__Burkholderiaceae_A_595427;g__Sutterella',\n",
       "       'd__Bacteria;p__Pseudomonadota;c__Gammaproteobacteria;o__Enterobacterales_737866;f__Enterobacteriaceae_A_725029;__',\n",
       "       'd__Bacteria;p__Pseudomonadota;c__Gammaproteobacteria;o__Enterobacterales_737866;f__Enterobacteriaceae_A_725029;g__Enterobacter_B_683926',\n",
       "       'd__Bacteria;p__Pseudomonadota;c__Gammaproteobacteria;o__Enterobacterales_737866;f__Enterobacteriaceae_A_725029;g__Escherichia',\n",
       "       'd__Bacteria;p__Pseudomonadota;c__Gammaproteobacteria;o__Enterobacterales_737866;f__Enterobacteriaceae_A_726016;__',\n",
       "       'd__Bacteria;p__Pseudomonadota;c__Gammaproteobacteria;o__Enterobacterales_737866;f__Succinivibrionaceae;g__Succinivibrio'],\n",
       "      dtype='<U135')"
      ]
     },
     "execution_count": 9,
     "metadata": {},
     "output_type": "execute_result"
    }
   ],
   "source": [
    "np.unique(healthy_temp)"
   ]
  },
  {
   "cell_type": "code",
   "execution_count": 10,
   "id": "df4e6555-72e8-44bd-9905-9f4d79460fbb",
   "metadata": {},
   "outputs": [],
   "source": [
    "pcos_temp = []\n",
    "\n",
    "for i in range(diseased.shape[1]):\n",
    "    for j in range(diseased.shape[1]):\n",
    "        if pcos_pcos_graph.graph[i, j] != 0:\n",
    "            pcos_temp.append(diseased.columns[i])\n",
    "            pcos_temp.append(diseased.columns[j])"
   ]
  },
  {
   "cell_type": "code",
   "execution_count": 11,
   "id": "25226bfb-98ea-4472-a3f9-7003f12b5601",
   "metadata": {},
   "outputs": [
    {
     "data": {
      "text/plain": [
       "array(['d__Bacteria;p__Actinomycetota;c__Actinomycetes;o__Actinomycetales;f__Bifidobacteriaceae;g__Bifidobacterium_388775',\n",
       "       'd__Bacteria;p__Actinomycetota;c__Coriobacteriia;o__Coriobacteriales;f__Coriobacteriaceae;g__Collinsella',\n",
       "       'd__Bacteria;p__Bacillota_A_368345;c__Clostridia_258483;o__Christensenellales;f__CAG-138;g__PeH17',\n",
       "       'd__Bacteria;p__Bacillota_A_368345;c__Clostridia_258483;o__Clostridiales;f__Clostridiaceae_222000;__',\n",
       "       'd__Bacteria;p__Bacillota_A_368345;c__Clostridia_258483;o__Lachnospirales;f__Lachnospiraceae;__',\n",
       "       'd__Bacteria;p__Bacillota_A_368345;c__Clostridia_258483;o__Lachnospirales;f__Lachnospiraceae;g__Anaerobutyricum',\n",
       "       'd__Bacteria;p__Bacillota_A_368345;c__Clostridia_258483;o__Lachnospirales;f__Lachnospiraceae;g__Blautia_A_141781',\n",
       "       'd__Bacteria;p__Bacillota_A_368345;c__Clostridia_258483;o__Lachnospirales;f__Lachnospiraceae;g__Lachnospira',\n",
       "       'd__Bacteria;p__Bacillota_A_368345;c__Clostridia_258483;o__Oscillospirales;f__Acutalibacteraceae;__',\n",
       "       'd__Bacteria;p__Bacillota_A_368345;c__Clostridia_258483;o__Oscillospirales;f__Acutalibacteraceae;g__CAG-177',\n",
       "       'd__Bacteria;p__Bacillota_A_368345;c__Clostridia_258483;o__Oscillospirales;f__Acutalibacteraceae;g__Fimenecus',\n",
       "       'd__Bacteria;p__Bacillota_A_368345;c__Clostridia_258483;o__Oscillospirales;f__Acutalibacteraceae;g__Ruminococcus_E',\n",
       "       'd__Bacteria;p__Bacillota_A_368345;c__Clostridia_258483;o__Oscillospirales;f__Oscillospiraceae_88309;g__Faecousia',\n",
       "       'd__Bacteria;p__Bacillota_A_368345;c__Clostridia_258483;o__Oscillospirales;f__Oscillospiraceae_88309;g__Hominicoprocola',\n",
       "       'd__Bacteria;p__Bacillota_A_368345;c__Clostridia_258483;o__Oscillospirales;f__Oscillospiraceae_88309;g__Vescimonas',\n",
       "       'd__Bacteria;p__Bacillota_A_368345;c__Clostridia_258483;o__Oscillospirales;f__Ruminococcaceae;g__Faecalibacterium',\n",
       "       'd__Bacteria;p__Bacillota_A_368345;c__Clostridia_258483;o__Oscillospirales;f__Ruminococcaceae;g__Gemmiger_A_73129',\n",
       "       'd__Bacteria;p__Bacillota_A_368345;c__Clostridia_258483;o__Oscillospirales;f__Ruminococcaceae;g__Hominimerdicola',\n",
       "       'd__Bacteria;p__Bacillota_A_368345;c__Clostridia_258483;o__Peptostreptococcales;f__Peptostreptococcaceae_256921;__',\n",
       "       'd__Bacteria;p__Bacillota_C;c__Negativicutes;o__Acidaminococcales;f__Acidaminococcaceae;g__Phascolarctobacterium_A_40086',\n",
       "       'd__Bacteria;p__Bacillota_C;c__Negativicutes;o__Acidaminococcales;f__Acidaminococcaceae;g__URXU01',\n",
       "       'd__Bacteria;p__Bacillota_C;c__Negativicutes;o__Selenomonadales;f__Selenomonadaceae_42771;g__Megamonas',\n",
       "       'd__Bacteria;p__Bacillota_C;c__Negativicutes;o__Veillonellales;f__Dialisteraceae;g__Dialister_37762',\n",
       "       'd__Bacteria;p__Bacillota_C;c__Negativicutes;o__Veillonellales;f__Megasphaeraceae;g__Megasphaera_A_38685',\n",
       "       'd__Bacteria;p__Bacillota_C;c__Negativicutes;o__Veillonellales;f__Veillonellaceae;g__Veillonella_A',\n",
       "       'd__Bacteria;p__Bacillota_I;c__Bacilli_A;o__Erysipelotrichales;f__Coprobacillaceae;g__Catenibacterium',\n",
       "       'd__Bacteria;p__Bacillota_I;c__Bacilli_A;o__Erysipelotrichales;f__Erysipelotrichaceae;g__Holdemanella',\n",
       "       'd__Bacteria;p__Bacillota_I;c__Bacilli_A;o__Lactobacillales;f__Lactobacillaceae;g__Lactobacillus',\n",
       "       'd__Bacteria;p__Bacillota_I;c__Bacilli_A;o__Lactobacillales;f__Lactobacillaceae;g__Ligilactobacillus',\n",
       "       'd__Bacteria;p__Bacillota_I;c__Bacilli_A;o__Lactobacillales;f__Lactobacillaceae;g__Limosilactobacillus',\n",
       "       'd__Bacteria;p__Bacillota_I;c__Bacilli_A;o__Lactobacillales;f__Lactobacillaceae;g__Weissella',\n",
       "       'd__Bacteria;p__Bacillota_I;c__Bacilli_A;o__Lactobacillales;f__Streptococcaceae;g__Streptococcus',\n",
       "       'd__Bacteria;p__Bacteroidota;c__Bacteroidia;o__Bacteroidales;f__Bacteroidaceae;g__Bacteroides_H_857956',\n",
       "       'd__Bacteria;p__Bacteroidota;c__Bacteroidia;o__Bacteroidales;f__Bacteroidaceae;g__Phocaeicola_A',\n",
       "       'd__Bacteria;p__Bacteroidota;c__Bacteroidia;o__Bacteroidales;f__Bacteroidaceae;g__Prevotella',\n",
       "       'd__Bacteria;p__Bacteroidota;c__Bacteroidia;o__Bacteroidales;f__Tannerellaceae;g__Parabacteroides_B_862066',\n",
       "       'd__Bacteria;p__Fusobacteriota;c__Fusobacteriia;o__Fusobacteriales;f__Fusobacteriaceae;g__Fusobacterium_A',\n",
       "       'd__Bacteria;p__Pseudomonadota;c__Gammaproteobacteria;o__Enterobacterales_737866;f__Enterobacteriaceae_A_725029;__',\n",
       "       'd__Bacteria;p__Pseudomonadota;c__Gammaproteobacteria;o__Enterobacterales_737866;f__Enterobacteriaceae_A_725029;g__Enterobacter_B_683926',\n",
       "       'd__Bacteria;p__Pseudomonadota;c__Gammaproteobacteria;o__Enterobacterales_737866;f__Enterobacteriaceae_A_725029;g__Escherichia'],\n",
       "      dtype='<U135')"
      ]
     },
     "execution_count": 11,
     "metadata": {},
     "output_type": "execute_result"
    }
   ],
   "source": [
    "np.unique(pcos_temp)"
   ]
  },
  {
   "cell_type": "code",
   "execution_count": 15,
   "id": "6be5630d-d568-42fe-81a1-b59e1b56c84e",
   "metadata": {},
   "outputs": [
    {
     "data": {
      "text/plain": [
       "(27,)"
      ]
     },
     "execution_count": 15,
     "metadata": {},
     "output_type": "execute_result"
    }
   ],
   "source": [
    "# HC and PCOS share 45 microbes\n",
    "shared = np.intersect1d(np.unique(healthy_temp), np.unique(pcos_temp))\n",
    "shared.shape"
   ]
  },
  {
   "cell_type": "code",
   "execution_count": 17,
   "id": "41b8e38d-db67-4448-a38e-2fefdb2b8526",
   "metadata": {},
   "outputs": [
    {
     "data": {
      "text/plain": [
       "array(['d__Bacteria;__;__;__;__;__',\n",
       "       'd__Bacteria;p__Bacillota_A_368345;c__Clostridia_258483;o__Christensenellales;f__Aristaeellaceae;g__SFMI01',\n",
       "       'd__Bacteria;p__Bacillota_A_368345;c__Clostridia_258483;o__Oscillospirales;f__Acutalibacteraceae;g__Acutalibacter',\n",
       "       'd__Bacteria;p__Bacillota_A_368345;c__Clostridia_258483;o__UBA1381;f__UBA1381;g__Hominilimicola',\n",
       "       'd__Bacteria;p__Bacillota_C;c__Negativicutes;o__Acidaminococcales;f__Acidaminococcaceae;g__Phascolarctobacterium_A_39470',\n",
       "       'd__Bacteria;p__Bacillota_C;c__Negativicutes;o__Selenomonadales;f__Selenomonadaceae_42771;g__Mitsuokella',\n",
       "       'd__Bacteria;p__Bacteroidota;c__Bacteroidia;o__Bacteroidales;f__Bacteroidaceae;g__Alloprevotella',\n",
       "       'd__Bacteria;p__Pseudomonadota;c__Gammaproteobacteria;o__Burkholderiales;f__Burkholderiaceae_A_595427;g__Sutterella',\n",
       "       'd__Bacteria;p__Pseudomonadota;c__Gammaproteobacteria;o__Enterobacterales_737866;f__Enterobacteriaceae_A_726016;__',\n",
       "       'd__Bacteria;p__Pseudomonadota;c__Gammaproteobacteria;o__Enterobacterales_737866;f__Succinivibrionaceae;g__Succinivibrio'],\n",
       "      dtype='<U135')"
      ]
     },
     "execution_count": 17,
     "metadata": {},
     "output_type": "execute_result"
    }
   ],
   "source": [
    "# HC have an additional 15\n",
    "np.unique(healthy_temp)[~np.in1d(np.unique(healthy_temp), shared)]"
   ]
  },
  {
   "cell_type": "code",
   "execution_count": 19,
   "id": "885df08f-f560-4d36-a519-57eb10dc1cda",
   "metadata": {},
   "outputs": [
    {
     "data": {
      "text/plain": [
       "array(['d__Bacteria;p__Bacillota_A_368345;c__Clostridia_258483;o__Christensenellales;f__CAG-138;g__PeH17',\n",
       "       'd__Bacteria;p__Bacillota_A_368345;c__Clostridia_258483;o__Clostridiales;f__Clostridiaceae_222000;__',\n",
       "       'd__Bacteria;p__Bacillota_A_368345;c__Clostridia_258483;o__Lachnospirales;f__Lachnospiraceae;g__Anaerobutyricum',\n",
       "       'd__Bacteria;p__Bacillota_A_368345;c__Clostridia_258483;o__Oscillospirales;f__Acutalibacteraceae;g__CAG-177',\n",
       "       'd__Bacteria;p__Bacillota_A_368345;c__Clostridia_258483;o__Oscillospirales;f__Oscillospiraceae_88309;g__Faecousia',\n",
       "       'd__Bacteria;p__Bacillota_A_368345;c__Clostridia_258483;o__Oscillospirales;f__Oscillospiraceae_88309;g__Hominicoprocola',\n",
       "       'd__Bacteria;p__Bacillota_C;c__Negativicutes;o__Acidaminococcales;f__Acidaminococcaceae;g__URXU01',\n",
       "       'd__Bacteria;p__Bacillota_C;c__Negativicutes;o__Selenomonadales;f__Selenomonadaceae_42771;g__Megamonas',\n",
       "       'd__Bacteria;p__Bacillota_C;c__Negativicutes;o__Veillonellales;f__Veillonellaceae;g__Veillonella_A',\n",
       "       'd__Bacteria;p__Bacillota_I;c__Bacilli_A;o__Erysipelotrichales;f__Coprobacillaceae;g__Catenibacterium',\n",
       "       'd__Bacteria;p__Bacillota_I;c__Bacilli_A;o__Lactobacillales;f__Lactobacillaceae;g__Lactobacillus',\n",
       "       'd__Bacteria;p__Bacillota_I;c__Bacilli_A;o__Lactobacillales;f__Lactobacillaceae;g__Limosilactobacillus',\n",
       "       'd__Bacteria;p__Bacillota_I;c__Bacilli_A;o__Lactobacillales;f__Lactobacillaceae;g__Weissella'],\n",
       "      dtype='<U135')"
      ]
     },
     "execution_count": 19,
     "metadata": {},
     "output_type": "execute_result"
    }
   ],
   "source": [
    "# PCOS have an additional 17\n",
    "np.unique(pcos_temp)[~np.in1d(np.unique(pcos_temp), shared)]"
   ]
  },
  {
   "cell_type": "code",
   "execution_count": null,
   "id": "11be83f9-cc5b-4714-ad10-231367b621d6",
   "metadata": {},
   "outputs": [],
   "source": [
    "diagram.get_label_by_id(\"10\").set_text(\"\\n\".join(A - B))\n",
    "diagram.get_label_by_id(\"11\").set_text(\"\\n\".join(A & B))\n",
    "diagram.get_label_by_id(\"01\").set_text(\"\\n\".join(B - A))\n",
    "# Modify font sizes\n",
    "for text in diagram.set_labels:\n",
    " text.set_fontsize(24)\n",
    "for text in diagram.subset_labels:\n",
    " text.set_fontsize(14)"
   ]
  },
  {
   "cell_type": "code",
   "execution_count": 56,
   "id": "e3c911a9-d2aa-41b2-8870-5354671ca6ac",
   "metadata": {},
   "outputs": [
    {
     "data": {
      "image/png": "[encoded data removed]",
      "text/plain": [
       "<Figure size 640x480 with 1 Axes>"
      ]
     },
     "metadata": {},
     "output_type": "display_data"
    }
   ],
   "source": [
    "import matplotlib.pyplot as plt\n",
    "from matplotlib_venn import venn2_unweighted\n",
    "\n",
    "t2d_is_microbes = ['Clostridium.XI', 'Clostridium.XIVa', 'Parasutterella']\n",
    "t2d_ir_microbes = ['Dorea', 'Ruminococcus', 'Veillonella', 'unclassified Ersipelotrichaceae']\n",
    "t2d_is = set(['Clostridium.XI', 'Clostridium.XIVa', 'Parasutterella', '21'])\n",
    "t2d_ir = set(['Dorea', 'Ruminococcus', 'Veillonella', 'unclassified Ersipelotrichaceae', '21'])\n",
    "\n",
    "t2d_venn = venn2_unweighted([t2d_is, t2d_ir], ('IS', 'IR'), set_colors=(\"#E1BE6A\", \"#40B0A6\"),alpha=0.7)\n",
    "\n",
    "t2d_venn.get_patch_by_id('11').set_color(\"white\") \n",
    "\n",
    "t2d_venn.get_label_by_id('10').set_text('\\n'.join(t2d_is_microbes))\n",
    "t2d_venn.get_label_by_id('11').set_text('21 microbes')\n",
    "t2d_venn.get_label_by_id('01').set_text('\\n'.join(t2d_ir_microbes))\n",
    "\n",
    "plt.tight_layout()\n",
    "plt.savefig('t2d_microbe_microbe_venn.png', dpi=300)"
   ]
  },
  {
   "cell_type": "code",
   "execution_count": 57,
   "id": "2f01ff41-ba84-4f52-8b03-1589b14b8020",
   "metadata": {},
   "outputs": [
    {
     "data": {
      "image/png": "[encoded data removed]",
      "text/plain": [
       "<Figure size 640x480 with 1 Axes>"
      ]
     },
     "metadata": {},
     "output_type": "display_data"
    }
   ],
   "source": [
    "pcos_hc_microbes = list(np.unique(healthy_temp)[~np.in1d(np.unique(healthy_temp), shared)])\n",
    "pcos_pcos_microbes = list(np.unique(pcos_temp)[~np.in1d(np.unique(pcos_temp), shared)])\n",
    "pcos_hc = set(pcos_hc_microbes + ['45'])\n",
    "pcos_pcos = set(pcos_pcos_microbes + ['45'])\n",
    "\n",
    "pcos_venn = venn2_unweighted([pcos_hc, pcos_pcos], ('HC', 'PCOS'), set_colors=('#E1BE6A', '#40B0A6'), alpha=0.7)\n",
    "\n",
    "pcos_venn.get_patch_by_id('11').set_color(\"white\") \n",
    "\n",
    "pcos_venn.get_label_by_id('10').set_text('\\n'.join(['15 including', 'Burkholderia and', 'Holdemanella']))\n",
    "pcos_venn.get_label_by_id('11').set_text('45 microbes')\n",
    "pcos_venn.get_label_by_id('01').set_text('\\n'.join(['17 including', 'Knoellia and', 'Ruminococcus_gnavus_group']))\n",
    "\n",
    "plt.tight_layout()\n",
    "plt.savefig('pcos_microbe_microbe_venn.png', dpi=300)"
   ]
  },
  {
   "cell_type": "code",
   "execution_count": null,
   "id": "1ef3be63-baab-4779-823d-0a8a6f767a2a",
   "metadata": {},
   "outputs": [],
   "source": []
  }
 ],
 "metadata": {
  "kernelspec": {
   "display_name": "Python 3 (ipykernel)",
   "language": "python",
   "name": "python3"
  },
  "language_info": {
   "codemirror_mode": {
    "name": "ipython",
    "version": 3
   },
   "file_extension": ".py",
   "mimetype": "text/x-python",
   "name": "python",
   "nbconvert_exporter": "python",
   "pygments_lexer": "ipython3",
   "version": "3.9.21"
  }
 },
 "nbformat": 4,
 "nbformat_minor": 5
}
